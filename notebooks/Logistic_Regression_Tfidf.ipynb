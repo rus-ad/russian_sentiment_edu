{
 "cells": [
  {
   "cell_type": "markdown",
   "metadata": {},
   "source": [
    "# Привет! Тут мы анализируем русскоязычные твиты :)"
   ]
  },
  {
   "cell_type": "markdown",
   "metadata": {},
   "source": [
    "#### Датасет:\n",
    "https://drive.google.com/drive/folders/0BxlA8wH3PTUfV1F1UTBwVTJPd3c    \n",
    "#### Необходимые библиотеки\n",
    "numpy, pandas, scikit-learn, gensim, tensorflow-gpu, keras    \n",
    "#### Задания:\n",
    "1. Успешно запустить имеющийся ноутбук\n",
    "2. Запустить этот же ноутбук на данных ___ttk___\n",
    "3. Реализовать свёрточную нейронную сеть для анализа твитов:\n",
    "    - По аналогии с этой статьёй https://www.aclweb.org/anthology/D14-1181.\n",
    "    - На вход нейросети будут поступать настаканные друг на друга эмбеддинги поочерёдно каждого слова в тексте.\n",
    "    - Реализацию архитектуры статьи делайте по аналогии с примерами обработки картинок с помощью Sequential, Conv2D, MaxPool, Dense, Dropout из keras.\n",
    "    - Важные моменты:    \n",
    "        \\> Результирующий X будет 3D матрицей (кол-во сэмплов \\* максимальная длина текста \\* длину вектора эмбеддинга)    \n",
    "        \\> padding входных матриц (твиты - переменного размера, а нужно фиксированного, поэтому нужно матрицы добивать нулями или обрезать)    \n",
    "        \\> Чтобы адаптировать примеры с картинками к примерам с текстами, нужно аккуратно поменять размер рецептивного поля у Conv2D    \n",
    "        \\> Для keras нужно передавать метки класса в sparce-формате (П: не y=\\[0,1,2\\], a y=\\[\\[1,0,0\\], \\[0,1,0\\], \\[0,0,1\\]\\])\n",
    "        \\> Для улучшения результата можно вектора слов умножать на их Tf-Idf score, можно нормализовать весь X, добавлять Dropout в модель\n",
    "\n",
    "Если будут вопросы - обращайтесь :)"
   ]
  },
  {
   "cell_type": "markdown",
   "metadata": {},
   "source": [
    "## I. Импортим нужные библиотеки"
   ]
  },
  {
   "cell_type": "code",
   "execution_count": 1,
   "metadata": {},
   "outputs": [],
   "source": [
    "import xmltodict\n",
    "import re\n",
    "\n",
    "import pandas as pd\n",
    "import numpy as np\n",
    "\n",
    "from sklearn.feature_extraction.text import TfidfVectorizer\n",
    "from sklearn.linear_model import LogisticRegression\n",
    "from sklearn.metrics import f1_score"
   ]
  },
  {
   "cell_type": "markdown",
   "metadata": {},
   "source": [
    "## II. Определяем функции с парсингом входных данных"
   ]
  },
  {
   "cell_type": "code",
   "execution_count": 2,
   "metadata": {},
   "outputs": [],
   "source": [
    "companies = {}\n",
    "def get_sample_text(sample):\n",
    "    assert sample['column'][3]['@name'] == 'text'\n",
    "    return sample['column'][3]['#text']\n",
    "\n",
    "\n",
    "def get_sample_answers_bank(sample):\n",
    "    answers = {}\n",
    "    for i in range(4, 12):\n",
    "        companies[sample['column'][i]['@name']] = i\n",
    "        answers[sample['column'][i]['@name']] = None if sample['column'][i]['#text'] == 'NULL'\\\n",
    "            else int(sample['column'][i]['#text'])\n",
    "    return answers\n",
    "\n",
    "def get_sample_answers_tkk(sample):\n",
    "    answers = {}\n",
    "    for i in range(4, 11):\n",
    "        companies[sample['column'][i]['@name']] = i\n",
    "        answers[sample['column'][i]['@name']] = None if sample['column'][i]['#text'] == 'NULL'\\\n",
    "            else int(sample['column'][i]['#text'])\n",
    "    return answers\n",
    "\n",
    "def get_sample_id(sample):\n",
    "    assert sample['column'][0]['@name'] == 'id'\n",
    "    return int(sample['column'][0]['#text'])\n",
    "\n",
    "\n",
    "def get_data(filename):\n",
    "    df = pd.DataFrame()\n",
    "    with open(filename, \"r\", encoding='utf-8') as f:\n",
    "        d = xmltodict.parse(f.read(), process_namespaces=True)\n",
    "        clean_samples = []\n",
    "        for sample in d['pma_xml_export']['database']['table']:\n",
    "            sample_id = get_sample_id(sample)\n",
    "            text = get_sample_text(sample)\n",
    "            answers = get_sample_answers_bank(sample)\n",
    "            for company, answer in answers.items():\n",
    "                if answer is not None:\n",
    "                    clean_samples.append((sample_id, text, company, answer))\n",
    "        df['text'] = [sample[1] for sample in clean_samples]\n",
    "        df['answer'] = [sample[3] for sample in clean_samples]\n",
    "        df['company'] = [sample[2] for sample in clean_samples]\n",
    "        df['sample_id'] = [sample[0] for sample in clean_samples]\n",
    "    return df"
   ]
  },
  {
   "cell_type": "markdown",
   "metadata": {},
   "source": [
    "## III. Обрабатываем наши данные"
   ]
  },
  {
   "cell_type": "code",
   "execution_count": 3,
   "metadata": {},
   "outputs": [],
   "source": [
    "train_filename = \"/home/ds/DataScience/Datasets/SentiRuEval_2016/bank_train_2016.xml\"\n",
    "test_filename = \"/home/ds/DataScience/Datasets/SentiRuEval_2016/banks_test_etalon.xml\"\n",
    "\n",
    "train = get_data(train_filename)\n",
    "test = get_data(test_filename)"
   ]
  },
  {
   "cell_type": "markdown",
   "metadata": {},
   "source": [
    "## IV. Заменяем все ссылки и юзернеймы на url и user соответственно"
   ]
  },
  {
   "cell_type": "code",
   "execution_count": 4,
   "metadata": {},
   "outputs": [],
   "source": [
    "url_replacement = lambda x: re.sub(r'(?:http[^\\s]+)($|\\s)', r'url\\1', x)\n",
    "user_replacement = lambda x: re.sub(r'(?:@[^\\s]+)($|\\s)', r'user\\1', x)\n",
    "\n",
    "train['text'] = train['text'].apply(url_replacement)\n",
    "train['text'] = train['text'].apply(user_replacement)\n",
    "\n",
    "test['text'] = test['text'].apply(url_replacement)\n",
    "test['text'] = test['text'].apply(user_replacement)"
   ]
  },
  {
   "cell_type": "code",
   "execution_count": 5,
   "metadata": {},
   "outputs": [
    {
     "data": {
      "text/html": [
       "<div>\n",
       "<style scoped>\n",
       "    .dataframe tbody tr th:only-of-type {\n",
       "        vertical-align: middle;\n",
       "    }\n",
       "\n",
       "    .dataframe tbody tr th {\n",
       "        vertical-align: top;\n",
       "    }\n",
       "\n",
       "    .dataframe thead th {\n",
       "        text-align: right;\n",
       "    }\n",
       "</style>\n",
       "<table border=\"1\" class=\"dataframe\">\n",
       "  <thead>\n",
       "    <tr style=\"text-align: right;\">\n",
       "      <th></th>\n",
       "      <th>text</th>\n",
       "      <th>answer</th>\n",
       "      <th>company</th>\n",
       "      <th>sample_id</th>\n",
       "    </tr>\n",
       "  </thead>\n",
       "  <tbody>\n",
       "    <tr>\n",
       "      <th>0</th>\n",
       "      <td>url Взять кредит тюмень альфа банк</td>\n",
       "      <td>0</td>\n",
       "      <td>alfabank</td>\n",
       "      <td>1</td>\n",
       "    </tr>\n",
       "    <tr>\n",
       "      <th>1</th>\n",
       "      <td>Мнение о кредитной карте втб 24 url</td>\n",
       "      <td>0</td>\n",
       "      <td>vtb</td>\n",
       "      <td>2</td>\n",
       "    </tr>\n",
       "    <tr>\n",
       "      <th>2</th>\n",
       "      <td>«Райффайзенбанк»: Снижение ключевой ставки ЦБ ...</td>\n",
       "      <td>0</td>\n",
       "      <td>raiffeisen</td>\n",
       "      <td>3</td>\n",
       "    </tr>\n",
       "    <tr>\n",
       "      <th>3</th>\n",
       "      <td>Современное состояние кредитного поведения в р...</td>\n",
       "      <td>0</td>\n",
       "      <td>sberbank</td>\n",
       "      <td>4</td>\n",
       "    </tr>\n",
       "    <tr>\n",
       "      <th>4</th>\n",
       "      <td>user user Главное чтоб банки СБЕР и ВТБ!!!</td>\n",
       "      <td>1</td>\n",
       "      <td>sberbank</td>\n",
       "      <td>5</td>\n",
       "    </tr>\n",
       "  </tbody>\n",
       "</table>\n",
       "</div>"
      ],
      "text/plain": [
       "                                                text  answer     company  \\\n",
       "0                 url Взять кредит тюмень альфа банк       0    alfabank   \n",
       "1                Мнение о кредитной карте втб 24 url       0         vtb   \n",
       "2  «Райффайзенбанк»: Снижение ключевой ставки ЦБ ...       0  raiffeisen   \n",
       "3  Современное состояние кредитного поведения в р...       0    sberbank   \n",
       "4         user user Главное чтоб банки СБЕР и ВТБ!!!       1    sberbank   \n",
       "\n",
       "   sample_id  \n",
       "0          1  \n",
       "1          2  \n",
       "2          3  \n",
       "3          4  \n",
       "4          5  "
      ]
     },
     "execution_count": 5,
     "metadata": {},
     "output_type": "execute_result"
    }
   ],
   "source": [
    "train.head()"
   ]
  },
  {
   "cell_type": "code",
   "execution_count": 6,
   "metadata": {},
   "outputs": [
    {
     "data": {
      "text/plain": [
       " 0    7158\n",
       "-1    2807\n",
       " 1     760\n",
       "Name: answer, dtype: int64"
      ]
     },
     "execution_count": 6,
     "metadata": {},
     "output_type": "execute_result"
    }
   ],
   "source": [
    "train['answer'].value_counts()"
   ]
  },
  {
   "cell_type": "code",
   "execution_count": 7,
   "metadata": {},
   "outputs": [
    {
     "data": {
      "text/html": [
       "<div>\n",
       "<style scoped>\n",
       "    .dataframe tbody tr th:only-of-type {\n",
       "        vertical-align: middle;\n",
       "    }\n",
       "\n",
       "    .dataframe tbody tr th {\n",
       "        vertical-align: top;\n",
       "    }\n",
       "\n",
       "    .dataframe thead th {\n",
       "        text-align: right;\n",
       "    }\n",
       "</style>\n",
       "<table border=\"1\" class=\"dataframe\">\n",
       "  <thead>\n",
       "    <tr style=\"text-align: right;\">\n",
       "      <th></th>\n",
       "      <th>text</th>\n",
       "      <th>answer</th>\n",
       "      <th>company</th>\n",
       "      <th>sample_id</th>\n",
       "    </tr>\n",
       "  </thead>\n",
       "  <tbody>\n",
       "    <tr>\n",
       "      <th>0</th>\n",
       "      <td>#Автокредит в россельхозбанк в череповце</td>\n",
       "      <td>0</td>\n",
       "      <td>rshb</td>\n",
       "      <td>1</td>\n",
       "    </tr>\n",
       "    <tr>\n",
       "      <th>1</th>\n",
       "      <td>RT user url #Кредитный калькулятор россельхозб...</td>\n",
       "      <td>0</td>\n",
       "      <td>rshb</td>\n",
       "      <td>2</td>\n",
       "    </tr>\n",
       "    <tr>\n",
       "      <th>2</th>\n",
       "      <td>#Автокредит в россельхозбанк 2012 url</td>\n",
       "      <td>0</td>\n",
       "      <td>rshb</td>\n",
       "      <td>3</td>\n",
       "    </tr>\n",
       "    <tr>\n",
       "      <th>3</th>\n",
       "      <td>RT user #Кредитные карты россельхозбанк url</td>\n",
       "      <td>0</td>\n",
       "      <td>rshb</td>\n",
       "      <td>4</td>\n",
       "    </tr>\n",
       "    <tr>\n",
       "      <th>4</th>\n",
       "      <td>RT user #Кредиты в россельхозбанке ижевск url</td>\n",
       "      <td>0</td>\n",
       "      <td>rshb</td>\n",
       "      <td>5</td>\n",
       "    </tr>\n",
       "  </tbody>\n",
       "</table>\n",
       "</div>"
      ],
      "text/plain": [
       "                                                text  answer company  \\\n",
       "0           #Автокредит в россельхозбанк в череповце       0    rshb   \n",
       "1  RT user url #Кредитный калькулятор россельхозб...       0    rshb   \n",
       "2              #Автокредит в россельхозбанк 2012 url       0    rshb   \n",
       "3        RT user #Кредитные карты россельхозбанк url       0    rshb   \n",
       "4      RT user #Кредиты в россельхозбанке ижевск url       0    rshb   \n",
       "\n",
       "   sample_id  \n",
       "0          1  \n",
       "1          2  \n",
       "2          3  \n",
       "3          4  \n",
       "4          5  "
      ]
     },
     "execution_count": 7,
     "metadata": {},
     "output_type": "execute_result"
    }
   ],
   "source": [
    "test.head()"
   ]
  },
  {
   "cell_type": "markdown",
   "metadata": {},
   "source": [
    "## V. Преобразование нашей обучающей выборки по tf-idf"
   ]
  },
  {
   "cell_type": "code",
   "execution_count": 8,
   "metadata": {},
   "outputs": [],
   "source": [
    "vectorizer = TfidfVectorizer()"
   ]
  },
  {
   "cell_type": "code",
   "execution_count": 9,
   "metadata": {},
   "outputs": [],
   "source": [
    "X_train = vectorizer.fit_transform(train['text'])"
   ]
  },
  {
   "cell_type": "code",
   "execution_count": 10,
   "metadata": {},
   "outputs": [
    {
     "data": {
      "text/plain": [
       "(10725, 11703)"
      ]
     },
     "execution_count": 10,
     "metadata": {},
     "output_type": "execute_result"
    }
   ],
   "source": [
    "X_train.shape"
   ]
  },
  {
   "cell_type": "markdown",
   "metadata": {},
   "source": [
    "## VI. Преобразование нашей тестовой выборки"
   ]
  },
  {
   "cell_type": "code",
   "execution_count": 11,
   "metadata": {},
   "outputs": [],
   "source": [
    "X_test = vectorizer.transform(test['text'])"
   ]
  },
  {
   "cell_type": "code",
   "execution_count": 12,
   "metadata": {},
   "outputs": [
    {
     "data": {
      "text/plain": [
       "(3418, 11703)"
      ]
     },
     "execution_count": 12,
     "metadata": {},
     "output_type": "execute_result"
    }
   ],
   "source": [
    "X_test.shape"
   ]
  },
  {
   "cell_type": "markdown",
   "metadata": {},
   "source": [
    "## VII. Обучение логистической регрессии"
   ]
  },
  {
   "cell_type": "code",
   "execution_count": 13,
   "metadata": {},
   "outputs": [],
   "source": [
    "lr = LogisticRegression(solver='lbfgs', multi_class='multinomial', class_weight='balanced')"
   ]
  },
  {
   "cell_type": "code",
   "execution_count": 14,
   "metadata": {},
   "outputs": [
    {
     "data": {
      "text/plain": [
       "LogisticRegression(C=1.0, class_weight='balanced', dual=False,\n",
       "          fit_intercept=True, intercept_scaling=1, max_iter=100,\n",
       "          multi_class='multinomial', n_jobs=None, penalty='l2',\n",
       "          random_state=None, solver='lbfgs', tol=0.0001, verbose=0,\n",
       "          warm_start=False)"
      ]
     },
     "execution_count": 14,
     "metadata": {},
     "output_type": "execute_result"
    }
   ],
   "source": [
    "lr.fit(X_train, train['answer'])"
   ]
  },
  {
   "cell_type": "code",
   "execution_count": 15,
   "metadata": {},
   "outputs": [],
   "source": [
    "y_pred = lr.predict(X_test)"
   ]
  },
  {
   "cell_type": "markdown",
   "metadata": {},
   "source": [
    "## VIII. Смотрим на результаты\n",
    "Считается F1 мера с микро и макро усреднением по негативному и положительному классу как в соревновании"
   ]
  },
  {
   "cell_type": "code",
   "execution_count": 16,
   "metadata": {},
   "outputs": [
    {
     "data": {
      "text/plain": [
       "0.49823460180462925"
      ]
     },
     "execution_count": 16,
     "metadata": {},
     "output_type": "execute_result"
    }
   ],
   "source": [
    "f1_score(test['answer'], y_pred, average='micro', labels=[-1,1])"
   ]
  },
  {
   "cell_type": "code",
   "execution_count": 17,
   "metadata": {},
   "outputs": [
    {
     "data": {
      "text/plain": [
       "0.4698891720341647"
      ]
     },
     "execution_count": 17,
     "metadata": {},
     "output_type": "execute_result"
    }
   ],
   "source": [
    "f1_score(test['answer'], y_pred, average='macro', labels=[-1,1])"
   ]
  },
  {
   "cell_type": "markdown",
   "metadata": {},
   "source": [
    ".    \n",
    ".    \n",
    ".    \n",
    ".    \n",
    ".    \n",
    ".    \n",
    ".    \n",
    ".    \n",
    ".    \n",
    ".    \n",
    ".    \n",
    ".    \n",
    ".    \n",
    ".    \n",
    ".    \n",
    ".    \n",
    ".    \n",
    ".    \n",
    ".    \n",
    ".    \n",
    ".    \n",
    ".    \n",
    ".    \n",
    ".    \n",
    ".    \n",
    ".    \n",
    ".    \n",
    ".    \n",
    ".    \n",
    ".    \n"
   ]
  }
 ],
 "metadata": {
  "kernelspec": {
   "display_name": "Sentiment Recognition",
   "language": "python",
   "name": "senti_env"
  },
  "language_info": {
   "codemirror_mode": {
    "name": "ipython",
    "version": 3
   },
   "file_extension": ".py",
   "mimetype": "text/x-python",
   "name": "python",
   "nbconvert_exporter": "python",
   "pygments_lexer": "ipython3",
   "version": "3.6.8"
  }
 },
 "nbformat": 4,
 "nbformat_minor": 2
}
